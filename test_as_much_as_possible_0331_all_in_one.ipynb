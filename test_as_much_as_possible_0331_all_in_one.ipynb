{
 "cells": [
  {
   "cell_type": "code",
   "execution_count": 22,
   "id": "dbbdb901",
   "metadata": {},
   "outputs": [
    {
     "name": "stdout",
     "output_type": "stream",
     "text": [
      "Once deleted, variables cannot be recovered. Proceed (y/[n])? y\n"
     ]
    }
   ],
   "source": [
    "%reset\n",
    "import numpy as np\n",
    "from typing import List, Callable, Dict, Iterable, Type\n",
    "from numba import jit, prange\n",
    "from numpy import pi\n",
    "import numba\n",
    "from functools import reduce\n",
    "\n",
    "NP_COMPLEX = np.complex128\n",
    "NUMBA_COMPLEX = numba.complex128\n",
    "NP_FLOAT = np.float64\n",
    "NUMBA_FLOAT = numba.float64\n",
    "\n",
    "# a perfect 50:50 splitter\n",
    "_B = 1 / np.sqrt(2) * np.array([[1 + 0j, 0 + 1j], [0 + 1j, 1 + 0j]], dtype=NP_COMPLEX, order=\"C\")\n",
    "# _pure_phase = np.array([phi])"
   ]
  },
  {
   "cell_type": "code",
   "execution_count": 23,
   "id": "417839cb",
   "metadata": {},
   "outputs": [],
   "source": [
    "# variables to be initialized\n",
    "\n",
    "ports = List[int]\n",
    "tunable = True\n",
    "dof = int\n",
    "id_int = int"
   ]
  },
  {
   "cell_type": "code",
   "execution_count": 24,
   "id": "1ae32bf9",
   "metadata": {},
   "outputs": [
    {
     "data": {
      "text/plain": [
       "False"
      ]
     },
     "execution_count": 24,
     "metadata": {},
     "output_type": "execute_result"
    }
   ],
   "source": [
    "dof ==2"
   ]
  },
  {
   "cell_type": "code",
   "execution_count": 6,
   "id": "bcff50c2",
   "metadata": {},
   "outputs": [],
   "source": [
    "# from the component code\n",
    "def get_MZI_transfer_matrix(theta, phi):\n",
    "    return 0.5 * np.array([\n",
    "        [np.exp(1j * phi) * (np.exp(1j * theta) - 1), 1j * np.exp(1j * phi) * (1 + np.exp(1j * theta))],\n",
    "        [1j * (np.exp(1j * theta) + 1), 1 - np.exp(1j * theta)]], dtype=NP_COMPLEX)\n"
   ]
  },
  {
   "cell_type": "code",
   "execution_count": 7,
   "id": "065d75d5",
   "metadata": {},
   "outputs": [
    {
     "data": {
      "text/plain": [
       "array([[ 0.+0.j,  0.+1.j],\n",
       "       [ 0.+1.j, -0.+0.j]])"
      ]
     },
     "execution_count": 7,
     "metadata": {},
     "output_type": "execute_result"
    }
   ],
   "source": [
    "M_for_each_MZI(0, 0)"
   ]
  },
  {
   "cell_type": "code",
   "execution_count": 22,
   "id": "90337990",
   "metadata": {},
   "outputs": [],
   "source": [
    "# bar \n",
    "theta_bar = np.pi\n",
    "# cross\n",
    "theta_cross = 0\n",
    "M = M_for_each_MZI(theta_bar, np.random.random())\n",
    "M = M_for_each_MZI(theta_cross, np.random.random())"
   ]
  },
  {
   "cell_type": "code",
   "execution_count": 26,
   "id": "8e68d4a6",
   "metadata": {},
   "outputs": [],
   "source": [
    "t = abs(M[0,1])**2\n",
    "r = abs(M[0,0])**2"
   ]
  },
  {
   "cell_type": "code",
   "execution_count": 29,
   "id": "cb261831",
   "metadata": {},
   "outputs": [
    {
     "data": {
      "text/plain": [
       "0.0"
      ]
     },
     "execution_count": 29,
     "metadata": {},
     "output_type": "execute_result"
    }
   ],
   "source": [
    "r"
   ]
  },
  {
   "cell_type": "code",
   "execution_count": 30,
   "id": "6bccf5e2",
   "metadata": {},
   "outputs": [
    {
     "data": {
      "text/plain": [
       "0.9999999999999998"
      ]
     },
     "execution_count": 30,
     "metadata": {},
     "output_type": "execute_result"
    }
   ],
   "source": [
    "t"
   ]
  },
  {
   "cell_type": "code",
   "execution_count": null,
   "id": "49cdc1a2",
   "metadata": {},
   "outputs": [],
   "source": [
    "def from_waveguide_indices(cls, N:int, waveguide_indices:List[int]):\n",
    "    assert len(waveguide_indices)%2 == 0 and len(waveguide_indices) <= N, \"Waveguide must have an even number\"\n",
    "    assert len(waveguide_indices) == len(np.unique(waveguide_indices)), \"Waveguide must have unique indices\"\n",
    "    mzis = []\n",
    "    for i in range(0, len(waveguide_indices), 2):\n",
    "        mzis.append(get_MZI_transfer_matrix(waveguide_indices[i], waveguide_indices[i+1]))\n",
    "    return cls(N, mzis)\n",
    "def verify_inputs(N:int, mzis:List[MZI]):\n",
    "    assert len(mzis) <= N//2, \"Too many MZIs for layer with {} wgs\".format(N)\n",
    "    input_ports = np.array([[mzi.m, mzi.n] for mzi in mzis]).flatten()\n",
    "    assert len(input_ports) == len(np.unique(input_ports)), \"MZI share duplicate ports\"\n",
    "    "
   ]
  },
  {
   "cell_type": "code",
   "execution_count": 25,
   "id": "b0a72c0b",
   "metadata": {},
   "outputs": [],
   "source": [
    "def get_transfer_bigT_matrix(N, mzis):\n",
    "    T = np.eye(N, dtype = NP_COMPLEX)\n",
    "    for mzi in mzis:\n",
    "        U = get_MZI_transfer_matrix(theta, phi)\n",
    "        m, n = mzi.m, mzi.n\n",
    "        T[m][m] = U[0,0]\n",
    "        T[m][n] = U[0,1]\n",
    "        T[n][m] = U[1,0]\n",
    "        T[n][n] = U[1,1]\n",
    "    return T"
   ]
  },
  {
   "cell_type": "code",
   "execution_count": null,
   "id": "857aee6b",
   "metadata": {},
   "outputs": [],
   "source": []
  },
  {
   "cell_type": "code",
   "execution_count": null,
   "id": "2286c55d",
   "metadata": {},
   "outputs": [],
   "source": [
    "# this is great to implement.\n",
    "def getClements_fromBen_code:\n",
    "    \n",
    "    return big_T\n",
    "\n"
   ]
  }
 ],
 "metadata": {
  "kernelspec": {
   "display_name": "Python 3",
   "language": "python",
   "name": "python3"
  },
  "language_info": {
   "codemirror_mode": {
    "name": "ipython",
    "version": 3
   },
   "file_extension": ".py",
   "mimetype": "text/x-python",
   "name": "python",
   "nbconvert_exporter": "python",
   "pygments_lexer": "ipython3",
   "version": "3.8.8"
  }
 },
 "nbformat": 4,
 "nbformat_minor": 5
}
