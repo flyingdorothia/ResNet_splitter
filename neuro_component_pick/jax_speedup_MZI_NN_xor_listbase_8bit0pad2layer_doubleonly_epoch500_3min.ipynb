{
 "cells": [
  {
   "cell_type": "code",
   "execution_count": 1,
   "id": "swiss-ordering",
   "metadata": {},
   "outputs": [],
   "source": [
    "import sys\n",
    "sys.path.append(\"../\")\n",
    "\n",
    "import jax.numpy as jnp\n",
    "from jax import grad, jit, vmap, value_and_grad\n",
    "from jax import jvp, vjp\n",
    "from jax import random\n",
    "\n",
    "import jax\n",
    "from functools import partial\n",
    "from jax.ops import index_update, index\n",
    "\n",
    "import matplotlib.pyplot as plt\n",
    "import time\n",
    "import numpy as np\n",
    "import scipy as sp\n",
    "\n",
    "from utils import generate_data_XOR\n",
    "\n",
    "key = random.PRNGKey(2)\n",
    "CTYPE = jnp.complex64\n",
    "RTYPE = jnp.float32\n",
    "\n",
    "%load_ext autoreload\n",
    "%autoreload 2"
   ]
  },
  {
   "cell_type": "markdown",
   "id": "designing-gather",
   "metadata": {},
   "source": [
    "### Network parameters"
   ]
  },
  {
   "cell_type": "code",
   "execution_count": 2,
   "id": "greater-sellers",
   "metadata": {},
   "outputs": [],
   "source": [
    "n_bit = 8\n",
    "N_pad = 0\n",
    "ports = n_bit+N_pad\n",
    "\n",
    "depths = ports\n",
    "layer = 2\n",
    "\n",
    "n_mzi = int(ports*(ports-1)/2)"
   ]
  },
  {
   "cell_type": "markdown",
   "id": "parallel-intervention",
   "metadata": {},
   "source": [
    "### Ring parameters"
   ]
  },
  {
   "cell_type": "code",
   "execution_count": 3,
   "id": "forty-winner",
   "metadata": {},
   "outputs": [],
   "source": [
    "# coupling coefficients\n",
    "r1 = 0.76676661\n",
    "r2 = 0.97301454\n",
    "r3 = r1\n",
    "dx = 0\n",
    "# ring aborption loss\n",
    "a = 1"
   ]
  },
  {
   "cell_type": "code",
   "execution_count": 4,
   "id": "desperate-baptist",
   "metadata": {},
   "outputs": [],
   "source": [
    "def get_location(ports, depths):\n",
    "    pairs = []\n",
    "    for layer in range(depths):\n",
    "        pairs.append([])\n",
    "        if layer % 2 == 0:\n",
    "            j = 0\n",
    "            while j < ports-1:\n",
    "                pairs[layer].append([j, j+1])\n",
    "                j += 2\n",
    "        else:\n",
    "            j = 1\n",
    "            while j < ports-1:\n",
    "                pairs[layer].append([j, j+1])\n",
    "                j += 2\n",
    "    return pairs"
   ]
  },
  {
   "cell_type": "code",
   "execution_count": 5,
   "id": "loving-arkansas",
   "metadata": {},
   "outputs": [],
   "source": [
    "def ABCD(r, a, phi):\n",
    "    # so now there is a splitter\n",
    "    k = jnp.sqrt(1-r**2)\n",
    "    A = -jnp.sqrt(a)/1j/k * jnp.exp(1j*phi/2)\n",
    "    B = r*jnp.sqrt(a)/1j/k * jnp.exp(1j*phi/2)\n",
    "    C = -r/1j/k/jnp.sqrt(a) * jnp.exp(-1j*phi/2)\n",
    "    D = 1/1j/k/jnp.sqrt(a) * jnp.exp(-1j*phi/2)\n",
    "    return jnp.array([[A, B], [C, D]])\n",
    "\n",
    "def lastABCD(r):\n",
    "    k = jnp.sqrt(1-r**2)\n",
    "    trans = jnp.array([[-1, r], [-r, 1]], dtype=CTYPE)\n",
    "    return 1./1j/k*trans\n",
    "\n",
    "def doublering(phi):\n",
    "    phi = phi + dx\n",
    "    trans = jnp.dot(ABCD(r2, a, phi), ABCD(r1, a, phi))\n",
    "    trans = jnp.dot(lastABCD(r3), trans)\n",
    "#     print(trans)\n",
    "    \n",
    "    A = trans[0,0]\n",
    "    B = trans[0,1]\n",
    "    C = trans[1,0]\n",
    "    D = trans[1,1]\n",
    "\n",
    "    return -C/D, 1/D, A-B*C/D, B/D\n"
   ]
  },
  {
   "cell_type": "code",
   "execution_count": 6,
   "id": "monthly-survival",
   "metadata": {},
   "outputs": [],
   "source": [
    "def clements(phi_list, xin):\n",
    "    count_mzi = 0\n",
    "    xout = xin\n",
    "    for layer in range(depths):\n",
    "        T = np.eye(ports, dtype=CTYPE).tolist()\n",
    "#         T = jnp.eye(ports, dtype=CTYPE)\n",
    "    \n",
    "        for ind_mzi in range(len(pairs[layer])):\n",
    "            # this process makes things slower => change\n",
    "            T11, T12, T21, T22 = doublering(phi_list[count_mzi])\n",
    "            m, n = pairs[layer][ind_mzi]\n",
    "            T[m][m] = T11\n",
    "            T[m][n] = T12\n",
    "            T[n][m] = T21\n",
    "            T[n][n] = T22\n",
    "            \n",
    "            count_mzi += 1\n",
    "        T = jnp.array(T)\n",
    "        xout = jnp.dot(T, xout)\n",
    "    return xout\n",
    "\n",
    "def clements_print(phi_list, xin):\n",
    "    count_mzi = 0\n",
    "    xout = xin\n",
    "    for layer in range(depths):\n",
    "        T = jnp.eye(ports, dtype=CTYPE)\n",
    "        \n",
    "        for ind_mzi in range(len(pairs[layer])):\n",
    "            # this process makes things slower => change\n",
    "            T11, T12, T21, T22 = doublering(phi_list[count_mzi])\n",
    "            m, n = pairs[layer][ind_mzi]\n",
    "            # index_update is kinda slow\n",
    "            T = index_update(T, index[m, m], T11)\n",
    "            T = index_update(T, index[m, n], T12)\n",
    "            T = index_update(T, index[n, m], T21)\n",
    "            T = index_update(T, index[n, n], T22)\n",
    "            count_mzi += 1\n",
    "            print(f'clements{count_mzi}', jnp.abs(T11), jnp.abs(T21))\n",
    "            print(f'xpass{count_mzi}', jnp.round(jnp.abs(jnp.dot(T, xout))**2, 2))\n",
    "        xout = jnp.dot(T, xout)\n",
    "    return xout"
   ]
  },
  {
   "cell_type": "code",
   "execution_count": 7,
   "id": "celtic-innocent",
   "metadata": {},
   "outputs": [],
   "source": [
    "def activation(xout, threshold=0.3):    \n",
    "    g = np.pi\n",
    "    phi_b = 0\n",
    "    alpha = 0.1\n",
    "    a = 0.9\n",
    "    r = 0.9\n",
    "    # ring\n",
    "    dphi = 0.5*g*jnp.abs(xout)**2 + 0.5*phi_b\n",
    "    t_ring = jnp.exp(1j*(np.pi+dphi))*(a-r*jnp.exp(1j*dphi))/(1.-r*a*jnp.exp(1j*dphi))\n",
    "    # xout = (1j * jnp.sqrt(1.0-alpha) * t_ring) * xout\n",
    "    xout = jnp.abs(1j * jnp.sqrt(1.0-alpha) * t_ring * xout)\n",
    "    return xout\n",
    "\n",
    "\n",
    "def network_print(phi_list, xin):\n",
    "    xout = clements_print(phi_list[0], xin)\n",
    "    print(0,jnp.round(jnp.abs(xout)**2,2))\n",
    "    xout = activation(xout)\n",
    "    print(f'act{0}',jnp.round(jnp.abs(xout)**2,2))\n",
    "    for l in range(1,layer):\n",
    "        xout = clements_print(phi_list[l], xout)\n",
    "        print(l,jnp.round(jnp.abs(xout)**2,2))\n",
    "        xout = activation(xout)\n",
    "        print(f'act{l}',jnp.round(jnp.abs(xout)**2,2))\n",
    "    \n",
    "    # intensity detection\n",
    "    xout = jnp.abs(xout)**2\n",
    "    return xout\n",
    "\n",
    "\n",
    "def network(phi_list, xin):\n",
    "    xout = clements(phi_list[0], xin)\n",
    "    xout = activation(xout)\n",
    "    for l in range(1,layer):\n",
    "        xout = clements(phi_list[l], xout)\n",
    "        xout = activation(xout)\n",
    "    \n",
    "    # intensity detection\n",
    "    xout = jnp.abs(xout)**2\n",
    "    return xout"
   ]
  },
  {
   "cell_type": "code",
   "execution_count": 8,
   "id": "sorted-draft",
   "metadata": {},
   "outputs": [],
   "source": [
    "@jit\n",
    "def loss(phi_list, xin, Y):\n",
    "    xout = network(phi_list, xin)\n",
    "    l = jnp.abs(xout[0,:]-Y[0,:])**2\n",
    "    return l.sum()"
   ]
  },
  {
   "cell_type": "code",
   "execution_count": 9,
   "id": "rocky-cotton",
   "metadata": {},
   "outputs": [],
   "source": [
    "def train(phi_list, X, Y, loss, \n",
    "          epoch=2000, lr=1e-3, beta1=0.9, beta2=0.99):\n",
    "    epsilon = 1e-8\n",
    "    grad_fn = value_and_grad(loss, (0))\n",
    "    phi_m = np.zeros(phi_list.shape)\n",
    "    phi_v = np.zeros(phi_list.shape)\n",
    "    \n",
    "    loss_list = []\n",
    "    \n",
    "    for it in range(epoch):\n",
    "        if it%100==0:\n",
    "            print(it)\n",
    "            \n",
    "        loss_val, tunable_grad = grad_fn(phi_list, X, Y)\n",
    "        loss_list.append(loss_val)\n",
    "        \n",
    "        phi_grad = tunable_grad\n",
    "        phi_m = beta1 * phi_m + (1-beta1) * phi_grad\n",
    "        \n",
    "        phi_v = beta2 * phi_v + (1-beta2) * np.square(phi_grad)\n",
    "        \n",
    "        phi_m_t = phi_m / (1-beta1**(it+1))\n",
    "        \n",
    "        phi_v_t = phi_v / (1-beta2**(it+1))\n",
    "        \n",
    "        adam_phi = phi_m_t / (np.sqrt(phi_v_t)+epsilon)\n",
    "        \n",
    "        phi_list = phi_list - lr*adam_phi\n",
    "    return loss_list, phi_list"
   ]
  },
  {
   "cell_type": "markdown",
   "id": "falling-edmonton",
   "metadata": {},
   "source": [
    "### Initiate phase"
   ]
  },
  {
   "cell_type": "code",
   "execution_count": 10,
   "id": "informed-structure",
   "metadata": {},
   "outputs": [],
   "source": [
    "# tunable and trainable parameters will be theta and phi\n",
    "phi_list = jnp.array(random.uniform(key,shape=[layer, n_mzi]), dtype=RTYPE) * np.pi * 0.1\n",
    "# initial randomlization could be smaller than zero. \n",
    "phi_list = phi_list - jnp.mean(phi_list)\n",
    "\n",
    "pairs = get_location(ports, depths)"
   ]
  },
  {
   "cell_type": "markdown",
   "id": "complex-massachusetts",
   "metadata": {},
   "source": [
    "### Load dataset"
   ]
  },
  {
   "cell_type": "code",
   "execution_count": 11,
   "id": "delayed-geometry",
   "metadata": {},
   "outputs": [],
   "source": [
    "y_max = 0.2\n",
    "X, Y = generate_data_XOR(n_bit, y_scale=y_max, normalize=True)\n",
    "X_padded = np.pad(X, ((0,N_pad),(0,0)), mode='constant', constant_values=1)"
   ]
  },
  {
   "cell_type": "code",
   "execution_count": 12,
   "id": "random-transaction",
   "metadata": {},
   "outputs": [
    {
     "name": "stdout",
     "output_type": "stream",
     "text": [
      "0\n",
      "100\n",
      "200\n",
      "300\n",
      "400\n",
      "run time 134.31850624084473\n"
     ]
    }
   ],
   "source": [
    "start = time.time()\n",
    "epoch = 500\n",
    "loss_list, phi_list = train(phi_list, X_padded, Y, loss, epoch=epoch)\n",
    "print('run time', time.time()-start)"
   ]
  },
  {
   "cell_type": "code",
   "execution_count": 13,
   "id": "minus-train",
   "metadata": {},
   "outputs": [
    {
     "data": {
      "text/plain": [
       "[<matplotlib.lines.Line2D at 0x15546cf116d0>]"
      ]
     },
     "execution_count": 13,
     "metadata": {},
     "output_type": "execute_result"
    },
    {
     "data": {
      "image/png": "[encoded data removed]",
      "text/plain": [
       "<Figure size 432x288 with 1 Axes>"
      ]
     },
     "metadata": {
      "needs_background": "light"
     },
     "output_type": "display_data"
    }
   ],
   "source": [
    "plt.plot(loss_list)\n",
    "plt.yscale('log')"
   ]
  },
  {
   "cell_type": "code",
   "execution_count": null,
   "id": "bright-moisture",
   "metadata": {},
   "outputs": [],
   "source": []
  }
 ],
 "metadata": {
  "kernelspec": {
   "display_name": "Python 3",
   "language": "python",
   "name": "python3"
  },
  "language_info": {
   "codemirror_mode": {
    "name": "ipython",
    "version": 3
   },
   "file_extension": ".py",
   "mimetype": "text/x-python",
   "name": "python",
   "nbconvert_exporter": "python",
   "pygments_lexer": "ipython3",
   "version": "3.8.12"
  }
 },
 "nbformat": 4,
 "nbformat_minor": 5
}
