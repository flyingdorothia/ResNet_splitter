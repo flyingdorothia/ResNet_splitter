{
 "cells": [
  {
   "cell_type": "code",
   "execution_count": 8,
   "id": "e01064aa",
   "metadata": {},
   "outputs": [
    {
     "name": "stdout",
     "output_type": "stream",
     "text": [
      "Once deleted, variables cannot be recovered. Proceed (y/[n])? y\n"
     ]
    }
   ],
   "source": [
    "%reset\n",
    "import neuroptica as neu\n",
    "import unittest\n",
    "import sys\n",
    "sys.path.append(\"../tests\")\n",
    "\n",
    "import numpy as np\n",
    "import matplotlib.pyplot as plt\n",
    "from scipy.stats import unitary_group\n",
    "from neuroptica.component_layers import *\n",
    "from neuroptica.layers import *\n",
    "from neuroptica.losses import *\n",
    "from neuroptica.utils import *\n",
    "from neuroptica.models import *\n",
    "from neuroptica.optimizers import *\n",
    "from neuroptica.settings import *"
   ]
  },
  {
   "cell_type": "code",
   "execution_count": 12,
   "id": "2346f5b1",
   "metadata": {},
   "outputs": [
    {
     "data": {
      "application/vnd.jupyter.widget-view+json": {
       "model_id": "52f00a74f2f34ac196e80ba43d661e25",
       "version_major": 2,
       "version_minor": 0
      },
      "text/plain": [
       "  0%|          | 0/1000 [00:00<?, ?it/s]"
      ]
     },
     "metadata": {},
     "output_type": "display_data"
    },
    {
     "data": {
      "image/png": "[encoded data removed]",
      "text/plain": [
       "<Figure size 432x288 with 1 Axes>"
      ]
     },
     "metadata": {
      "needs_background": "light"
     },
     "output_type": "display_data"
    }
   ],
   "source": [
    "N = 5\n",
    "P0 = 10.0\n",
    "\n",
    "model = neu.Sequential([\n",
    "    neu.ClementsLayer(N),\n",
    "    neu.Activation(neu.ElectroOpticActivation(N, **eo_settings)),\n",
    "    neu.ClementsLayer(N),\n",
    "    neu.Activation(neu.ElectroOpticActivation(N, **eo_settings)),\n",
    "    neu.ClementsLayer(N),\n",
    "    neu.Activation(neu.ElectroOpticActivation(N, **eo_settings)),\n",
    "    neu.ClementsLayer(N),\n",
    "    neu.Activation(neu.ElectroOpticActivation(N, **eo_settings)),\n",
    "    neu.ClementsLayer(N),\n",
    "    neu.Activation(neu.AbsSquared(N)), # photodetector measurement\n",
    "    neu.DropMask(N, keep_ports=[0,1])\n",
    "])\n",
    "\n",
    "X_normalized = normalize_inputs(X, N, P0=P0)\n",
    "\n",
    "optimizer = neu.InSituAdam(model, neu.CategoricalCrossEntropy, step_size=0.005)\n",
    "losses = optimizer.fit(X_normalized.T, Y.T, epochs=1000, batch_size=32)\n",
    "\n",
    "plt.plot(losses)\n",
    "plt.xlabel(\"Epoch\")\n",
    "plt.ylabel(\"$\\mathcal{L}$\")\n",
    "plt.show()"
   ]
  },
  {
   "cell_type": "code",
   "execution_count": 4,
   "id": "caf92060",
   "metadata": {},
   "outputs": [
    {
     "ename": "TypeError",
     "evalue": "getattr(): attribute name must be string",
     "output_type": "error",
     "traceback": [
      "\u001b[0;31m---------------------------------------------------------------------------\u001b[0m",
      "\u001b[0;31mTypeError\u001b[0m                                 Traceback (most recent call last)",
      "\u001b[0;32m<ipython-input-4-b84da720b631>\u001b[0m in \u001b[0;36m<module>\u001b[0;34m\u001b[0m\n\u001b[1;32m     64\u001b[0m                     \u001b[0mTestModels\u001b[0m\u001b[0;34m.\u001b[0m\u001b[0mverify_model_gradients\u001b[0m\u001b[0;34m(\u001b[0m\u001b[0mmodel\u001b[0m\u001b[0;34m,\u001b[0m \u001b[0mX\u001b[0m\u001b[0;34m,\u001b[0m \u001b[0mY\u001b[0m\u001b[0;34m,\u001b[0m \u001b[0mloss\u001b[0m\u001b[0;34m.\u001b[0m\u001b[0mL\u001b[0m\u001b[0;34m,\u001b[0m \u001b[0mgradients\u001b[0m\u001b[0;34m,\u001b[0m \u001b[0mepsilon\u001b[0m\u001b[0;34m=\u001b[0m\u001b[0;36m1e-6\u001b[0m\u001b[0;34m)\u001b[0m\u001b[0;34m\u001b[0m\u001b[0;34m\u001b[0m\u001b[0m\n\u001b[1;32m     65\u001b[0m \u001b[0;34m\u001b[0m\u001b[0m\n\u001b[0;32m---> 66\u001b[0;31m \u001b[0mTestLayers\u001b[0m\u001b[0;34m(\u001b[0m\u001b[0mNeuropticaTest\u001b[0m\u001b[0;34m)\u001b[0m\u001b[0;34m\u001b[0m\u001b[0;34m\u001b[0m\u001b[0m\n\u001b[0m",
      "\u001b[0;32m/Applications/anaconda3/lib/python3.8/unittest/case.py\u001b[0m in \u001b[0;36m__init__\u001b[0;34m(self, methodName)\u001b[0m\n\u001b[1;32m    431\u001b[0m         \u001b[0mself\u001b[0m\u001b[0;34m.\u001b[0m\u001b[0m_testMethodDoc\u001b[0m \u001b[0;34m=\u001b[0m \u001b[0;34m'No test'\u001b[0m\u001b[0;34m\u001b[0m\u001b[0;34m\u001b[0m\u001b[0m\n\u001b[1;32m    432\u001b[0m         \u001b[0;32mtry\u001b[0m\u001b[0;34m:\u001b[0m\u001b[0;34m\u001b[0m\u001b[0;34m\u001b[0m\u001b[0m\n\u001b[0;32m--> 433\u001b[0;31m             \u001b[0mtestMethod\u001b[0m \u001b[0;34m=\u001b[0m \u001b[0mgetattr\u001b[0m\u001b[0;34m(\u001b[0m\u001b[0mself\u001b[0m\u001b[0;34m,\u001b[0m \u001b[0mmethodName\u001b[0m\u001b[0;34m)\u001b[0m\u001b[0;34m\u001b[0m\u001b[0;34m\u001b[0m\u001b[0m\n\u001b[0m\u001b[1;32m    434\u001b[0m         \u001b[0;32mexcept\u001b[0m \u001b[0mAttributeError\u001b[0m\u001b[0;34m:\u001b[0m\u001b[0;34m\u001b[0m\u001b[0;34m\u001b[0m\u001b[0m\n\u001b[1;32m    435\u001b[0m             \u001b[0;32mif\u001b[0m \u001b[0mmethodName\u001b[0m \u001b[0;34m!=\u001b[0m \u001b[0;34m'runTest'\u001b[0m\u001b[0;34m:\u001b[0m\u001b[0;34m\u001b[0m\u001b[0;34m\u001b[0m\u001b[0m\n",
      "\u001b[0;31mTypeError\u001b[0m: getattr(): attribute name must be string"
     ]
    }
   ],
   "source": [
    "import unittest\n",
    "\n",
    "from neuroptica.layers import *\n",
    "from neuroptica.losses import MeanSquaredError\n",
    "from neuroptica.models import Sequential\n",
    "from neuroptica.nonlinearities import Abs\n",
    "from neuroptica.optimizers import Optimizer\n",
    "from tests.base import NeuropticaTest\n",
    "from tests.test_models import TestModels\n",
    "\n",
    "\n",
    "class TestLayers(NeuropticaTest):\n",
    "    '''Tests for Network layers'''\n",
    "\n",
    "    def test_ClementsLayer(self):\n",
    "        '''Tests the Clements layer'''\n",
    "        for N in [8, 9]:\n",
    "            c = ClementsLayer(N)\n",
    "            X = np.random.rand(N)\n",
    "            X_out = c.forward_pass(X)\n",
    "            # Check that a unitary transformation was done\n",
    "            self.assert_allclose(np.linalg.norm(X), np.linalg.norm(X_out))\n",
    "\n",
    "    def test_Reck(self):\n",
    "        '''Tests the Reck layer'''\n",
    "        for N in [8, 9]:\n",
    "            r = ReckLayer(N)\n",
    "            X = np.random.rand(N)\n",
    "            X_out = r.forward_pass(X)\n",
    "            # Check that a unitary transformation was done\n",
    "            self.assert_allclose(np.linalg.norm(X), np.linalg.norm(X_out))\n",
    "\n",
    "    def test_other_layers(self):\n",
    "        for N in [4, 5]:\n",
    "            layers = [DropMask(N, keep_ports=[0, 1])]\n",
    "\n",
    "            for layer in layers:\n",
    "                print(\"Testing layer {}\".format(layer))\n",
    "\n",
    "                batch_size = 11\n",
    "                n_samples = batch_size * 3\n",
    "\n",
    "                X_all = (2 * np.random.rand(N * n_samples) - 1).reshape((N, n_samples))\n",
    "                Y_all = np.abs(X_all)\n",
    "\n",
    "                if isinstance(layer, DropMask):\n",
    "                    Y_all = Y_all[layer.ports, :]\n",
    "                    model = Sequential([ClementsLayer(N), layer, Activation(Abs(N - len(layer.ports)))])\n",
    "\n",
    "                else:\n",
    "                    model = Sequential([ClementsLayer(N), layer, Activation(Abs(N))])\n",
    "\n",
    "                # Use mean squared cost function\n",
    "                loss = MeanSquaredError\n",
    "\n",
    "                for X, Y in Optimizer.make_batches(X_all, Y_all, batch_size):\n",
    "                    # Propagate the data forward\n",
    "                    Y_hat = model.forward_pass(X)\n",
    "                    d_loss = loss.dL(Y_hat, Y)\n",
    "\n",
    "                    # Compute the backpropagated signals for the model\n",
    "                    gradients = model.backward_pass(d_loss)\n",
    "\n",
    "                    TestModels.verify_model_gradients(model, X, Y, loss.L, gradients, epsilon=1e-6)\n",
    "\n",
    "TestLayers(NeuropticaTest)"
   ]
  },
  {
   "cell_type": "code",
   "execution_count": null,
   "id": "37ce3c1b",
   "metadata": {},
   "outputs": [],
   "source": []
  }
 ],
 "metadata": {
  "kernelspec": {
   "display_name": "Python 3",
   "language": "python",
   "name": "python3"
  },
  "language_info": {
   "codemirror_mode": {
    "name": "ipython",
    "version": 3
   },
   "file_extension": ".py",
   "mimetype": "text/x-python",
   "name": "python",
   "nbconvert_exporter": "python",
   "pygments_lexer": "ipython3",
   "version": "3.8.8"
  }
 },
 "nbformat": 4,
 "nbformat_minor": 5
}
